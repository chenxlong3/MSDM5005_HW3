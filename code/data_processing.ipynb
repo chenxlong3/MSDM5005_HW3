{
 "cells": [
  {
   "cell_type": "markdown",
   "metadata": {},
   "source": [
    "https://data.gov.hk/en-data/dataset/clp-team1-electric-vehicle-charging-location"
   ]
  },
  {
   "cell_type": "code",
   "execution_count": 1,
   "metadata": {},
   "outputs": [],
   "source": [
    "\"\"\"\n",
    "CHEN Xiaolong\n",
    "2022-03-28\n",
    "get electric car station data using the API provided by DATA.GOV.HK\n",
    "\"\"\"\n",
    "\n",
    "# Please install the required packages first.\n",
    "import requests, xmltodict, json\n",
    "import pandas as pd\n",
    "url = \"https://opendata.clp.com.hk/GetChargingSectionXML.aspx?lang=EN\""
   ]
  },
  {
   "cell_type": "code",
   "execution_count": 2,
   "metadata": {},
   "outputs": [],
   "source": [
    "r = requests.get(url)"
   ]
  },
  {
   "cell_type": "code",
   "execution_count": 3,
   "metadata": {},
   "outputs": [],
   "source": [
    "data_dict = xmltodict.parse(r.content)\n",
    "data_dict = json.dumps(data_dict)\n",
    "data_dict = json.loads(data_dict)"
   ]
  },
  {
   "cell_type": "code",
   "execution_count": 4,
   "metadata": {},
   "outputs": [],
   "source": [
    "data_hk_station = pd.DataFrame(data_dict[\"ChargingStationData\"][\"stationList\"][\"station\"])"
   ]
  },
  {
   "cell_type": "code",
   "execution_count": 5,
   "metadata": {},
   "outputs": [],
   "source": [
    "data_hk_station.to_csv(\"../data/data_hk_station.csv\")"
   ]
  }
 ],
 "metadata": {
  "interpreter": {
   "hash": "6d02258f19ffa58872b012518a75f527eca5f727bb17ae2571005dc4e0fda5d3"
  },
  "kernelspec": {
   "display_name": "Python 3.8.10 ('ddm')",
   "language": "python",
   "name": "python3"
  },
  "language_info": {
   "codemirror_mode": {
    "name": "ipython",
    "version": 3
   },
   "file_extension": ".py",
   "mimetype": "text/x-python",
   "name": "python",
   "nbconvert_exporter": "python",
   "pygments_lexer": "ipython3",
   "version": "3.8.10"
  },
  "orig_nbformat": 4
 },
 "nbformat": 4,
 "nbformat_minor": 2
}
