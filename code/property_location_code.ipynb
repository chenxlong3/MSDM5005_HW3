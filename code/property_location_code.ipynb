{
 "cells": [
  {
   "cell_type": "code",
   "execution_count": 1,
   "id": "bd1bb86f",
   "metadata": {},
   "outputs": [],
   "source": [
    "import pandas as pd\n",
    "from geopy.geocoders import Nominatim\n",
    "import re\n",
    "import numpy as np\n",
    "import time"
   ]
  },
  {
   "cell_type": "code",
   "execution_count": 2,
   "id": "987a2494",
   "metadata": {},
   "outputs": [],
   "source": [
    "data = pd.read_csv(\"C:\\\\Users\\\\Suizi Huang\\\\Downloads\\\\MSDM5005_HW3-main\\\\data\\\\properties_midland.csv\")"
   ]
  },
  {
   "cell_type": "code",
   "execution_count": 3,
   "id": "abb1dcd3",
   "metadata": {},
   "outputs": [],
   "source": [
    "words = ['room','floor','living','block','flat','higher','middle','lower','phase','na','court']"
   ]
  },
  {
   "cell_type": "code",
   "execution_count": 4,
   "id": "208acb7b",
   "metadata": {},
   "outputs": [],
   "source": [
    "def short_name(s):\n",
    "    global words\n",
    "    s_list = re.split(' |\\n', s)\n",
    "    s_copy = s_list.copy()\n",
    "    for w in s_copy:\n",
    "        if len(w)<2 or any(c.isdigit() for c in w):\n",
    "            s_list.remove(w)\n",
    "\n",
    "    for w in s_copy:\n",
    "        curr = w.lower()\n",
    "        for word in words:\n",
    "            if word in curr and w in s_list:\n",
    "                s_list.remove(w)\n",
    "    res = ' '.join(s_list) + ' Hong Kong'\n",
    "                \n",
    "    return res\n",
    "\n",
    "def get_lat(loc):\n",
    "    try:\n",
    "        res = loc.latitude\n",
    "    except AttributeError:\n",
    "        res = 0\n",
    "    return res\n",
    "\n",
    "def get_long(loc):\n",
    "    try:\n",
    "        res = loc.longitude\n",
    "    except AttributeError:\n",
    "        res = 0\n",
    "    return res"
   ]
  },
  {
   "cell_type": "code",
   "execution_count": 5,
   "id": "4ced7fec",
   "metadata": {},
   "outputs": [],
   "source": [
    "data['address'] = data['Name'].apply(short_name)"
   ]
  },
  {
   "cell_type": "code",
   "execution_count": 6,
   "id": "1c9ef6c7",
   "metadata": {},
   "outputs": [
    {
     "name": "stdout",
     "output_type": "stream",
     "text": [
      "4398.491574525833\n"
     ]
    }
   ],
   "source": [
    "t = time.time()\n",
    "geolocator = Nominatim(user_agent=\"user_agent\",timeout=10000)\n",
    "data['loc'] = data['address'].apply(geolocator.geocode)\n",
    "print(time.time()-t)\n",
    "# data['loc2'] = data['District'].apply(geolocator.geocode)"
   ]
  },
  {
   "cell_type": "code",
   "execution_count": 7,
   "id": "ec7ed49e",
   "metadata": {},
   "outputs": [],
   "source": [
    "# data['location'] = np.where(data['loc'].isnull(), data['loc2'], data['loc'])\n",
    "data['lat'] = data['loc'].apply(get_lat)\n",
    "data['long'] = data['loc'].apply(get_long)"
   ]
  },
  {
   "cell_type": "code",
   "execution_count": 8,
   "id": "8145d5c4",
   "metadata": {},
   "outputs": [],
   "source": [
    "data.to_csv('properties_midland_loc.csv')"
   ]
  },
  {
   "cell_type": "code",
   "execution_count": null,
   "id": "ec4c991a",
   "metadata": {},
   "outputs": [],
   "source": []
  }
 ],
 "metadata": {
  "kernelspec": {
   "display_name": "Python 3 (ipykernel)",
   "language": "python",
   "name": "python3"
  },
  "language_info": {
   "codemirror_mode": {
    "name": "ipython",
    "version": 3
   },
   "file_extension": ".py",
   "mimetype": "text/x-python",
   "name": "python",
   "nbconvert_exporter": "python",
   "pygments_lexer": "ipython3",
   "version": "3.9.7"
  }
 },
 "nbformat": 4,
 "nbformat_minor": 5
}
